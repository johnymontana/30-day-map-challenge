{
 "cells": [
  {
   "cell_type": "markdown",
   "id": "6ee6111b",
   "metadata": {},
   "source": [
    "# Points\n",
    "\n",
    "## Day 1 - 30 Day Map Challenge\n",
    "\n",
    "For this map I wanted to demonstrate how to use the [Wherobots Open Data Catalog](https://docs.wherobots.services/1.2.0/tutorials/opendata/introduction/#open-data-catalog) with [SedonaDB](https://wherobots.com/sedona-db/) to use the [Overture Maps places dataset](https://medium.com/@dr.jiayu/harnessing-overture-maps-data-apache-sedonas-journey-from-parquet-to-geoparquet-d99f7767a499). Since Day 1 is the day after Halloween we'll find dentists nearby!\n",
    "\n",
    "\n",
    "![](../img/sedonadb.png)\n",
    "\n",
    "You can follow along by creating a free account on [Wherobots Cloud.](https://www.wherobots.services)"
   ]
  },
  {
   "cell_type": "code",
   "execution_count": null,
   "id": "e4ed4ff6-4a36-4f48-8409-b942b2c02724",
   "metadata": {},
   "outputs": [],
   "source": [
    "from sedona.spark import *\n",
    "import os\n",
    "import time"
   ]
  },
  {
   "cell_type": "code",
   "execution_count": null,
   "id": "8e24696a-676e-48ee-aa73-bf0411341088",
   "metadata": {},
   "outputs": [],
   "source": [
    "config = SedonaContext.builder(). \\\n",
    "    config(\"spark.sql.catalog.wherobots_examples.type\", \"hadoop\"). \\\n",
    "    config(\"spark.sql.catalog.wherobots_examples\", \"org.apache.iceberg.spark.SparkCatalog\"). \\\n",
    "    config(\"spark.sql.catalog.wherobots_examples.warehouse\", \"s3://wherobots-examples-prod/havasu/warehouse\"). \\\n",
    "    config(\"spark.sql.catalog.wherobots_examples.io-impl\", \"org.apache.iceberg.aws.s3.S3FileIO\"). \\\n",
    "    getOrCreate()\n",
    "\n",
    "sedona = SedonaContext.create(config)"
   ]
  },
  {
   "cell_type": "code",
   "execution_count": null,
   "id": "7dcac4d3-0454-466a-b051-c660d53a3d5e",
   "metadata": {},
   "outputs": [],
   "source": [
    "# Load Overture Maps Places theme as SedonaDB table from Wherobots Data Catalog\n",
    "\n",
    "full_places = sedona.table(\"wherobots_examples.overture.places_place\")\n",
    "full_places.createOrReplaceTempView(\"places\")"
   ]
  },
  {
   "cell_type": "code",
   "execution_count": null,
   "id": "881fc96a-30bb-4334-8246-8fac1b86b0dd",
   "metadata": {},
   "outputs": [],
   "source": [
    "# Create WKT for state of Colorado\n",
    "# Find other states here: https://gist.github.com/JoshuaCarroll/49630cbeeb254a49986e939a26672e9c\n",
    "\n",
    "STATE_WKT = 'POLYGON((-109.0448 37.0004,-102.0424 36.9949,-102.0534 41.0006,-109.0489 40.9996,-109.0448 37.0004,-109.0448 37.0004))'"
   ]
  },
  {
   "cell_type": "code",
   "execution_count": null,
   "id": "0721e974-d7a0-4f82-a68f-670e2a82aded",
   "metadata": {},
   "outputs": [],
   "source": [
    "# Query SedonaDB to find all dentists in Colorado\n",
    "\n",
    "dentist_df = sedona.sql(\"\"\"\n",
    "SELECT geometry, \n",
    "    categories.main AS category,\n",
    "    names.common[0].value AS name,\n",
    "    addresses[0].freeform AS address,\n",
    "    addresses[0].locality AS city\n",
    "FROM places\n",
    "WHERE ( ST_Contains(ST_GeomFromWKT('{filter}'), places.geometry) AND categories.main = 'dentist' )\n",
    "\n",
    "\n",
    "\"\"\".format(filter=STATE_WKT))\n",
    "\n",
    "dentist_df.show(5)"
   ]
  },
  {
   "cell_type": "markdown",
   "id": "2c768938",
   "metadata": {},
   "source": [
    "```\n",
    "+--------------------+--------+--------------------+------------------+-----------+\n",
    "|            geometry|category|                name|           address|       city|\n",
    "+--------------------+--------+--------------------+------------------+-----------+\n",
    "|POINT (-104.77973...| dentist|Marr Family Denti...|     1813 61st Ave|    Greeley|\n",
    "|POINT (-104.94772...| dentist|Emergency Dental ...|    4200 E 8th Ave|     Denver|\n",
    "|POINT (-105.07161...| dentist|Elevated Dental Arts|     418 8th St SE|   Loveland|\n",
    "|POINT (-104.82244...| dentist|Platteville Famil...|    340 Justin Ave|Platteville|\n",
    "|POINT (-105.02548...| dentist| ISmile Dental Group|677 S Federal Blvd|     Denver|\n",
    "+--------------------+--------+--------------------+------------------+-----------+\n",
    "only showing top 5 rows\n",
    "```"
   ]
  },
  {
   "cell_type": "code",
   "execution_count": null,
   "id": "d918309b-fddf-4235-b9a4-047089725f87",
   "metadata": {},
   "outputs": [],
   "source": [
    "SedonaKepler.create_map(dentist_df, \"Dentists In Colorado\")"
   ]
  },
  {
   "cell_type": "markdown",
   "id": "2ed88ed8",
   "metadata": {},
   "source": [
    "![](../img/01-points-dentists.png)"
   ]
  },
  {
   "cell_type": "code",
   "execution_count": null,
   "id": "cd921793-8555-46be-a274-00292c4516fd",
   "metadata": {},
   "outputs": [],
   "source": []
  },
  {
   "cell_type": "code",
   "execution_count": null,
   "id": "d375754a-9c7e-43e0-94ba-4f2fae004b67",
   "metadata": {},
   "outputs": [],
   "source": []
  },
  {
   "cell_type": "code",
   "execution_count": null,
   "id": "bf409340-dddc-46f0-ad70-c0d2585ef98b",
   "metadata": {},
   "outputs": [],
   "source": []
  },
  {
   "cell_type": "code",
   "execution_count": null,
   "id": "89a24862-9dc7-43d1-9c20-c3516bdba5b3",
   "metadata": {},
   "outputs": [],
   "source": []
  },
  {
   "cell_type": "code",
   "execution_count": null,
   "id": "068657da-8eb6-45e0-8a3f-ded9b274937a",
   "metadata": {},
   "outputs": [],
   "source": []
  },
  {
   "cell_type": "code",
   "execution_count": null,
   "id": "b14812bf-4be8-4c9c-8203-f0eac8572ebc",
   "metadata": {},
   "outputs": [],
   "source": []
  },
  {
   "cell_type": "code",
   "execution_count": null,
   "id": "b0b50720-6f9f-43ac-a3b0-a6e8fab40724",
   "metadata": {},
   "outputs": [],
   "source": []
  },
  {
   "cell_type": "code",
   "execution_count": null,
   "id": "eede53a7-4d90-441e-a089-1abd4bf6dc0d",
   "metadata": {},
   "outputs": [],
   "source": []
  },
  {
   "cell_type": "code",
   "execution_count": null,
   "id": "96fbafe2-9ad4-41d6-823a-bbef311c8737",
   "metadata": {},
   "outputs": [],
   "source": []
  }
 ],
 "metadata": {
  "kernelspec": {
   "display_name": "Python 3 (ipykernel)",
   "language": "python",
   "name": "python3"
  },
  "language_info": {
   "codemirror_mode": {
    "name": "ipython",
    "version": 3
   },
   "file_extension": ".py",
   "mimetype": "text/x-python",
   "name": "python",
   "nbconvert_exporter": "python",
   "pygments_lexer": "ipython3",
   "version": "3.9.13"
  }
 },
 "nbformat": 4,
 "nbformat_minor": 5
}
