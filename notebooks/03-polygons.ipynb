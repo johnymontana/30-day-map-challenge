{
 "cells": [
  {
   "cell_type": "markdown",
   "id": "d825a65a",
   "metadata": {},
   "source": [
    "# Polygons\n",
    "\n",
    "## Day 3 - 30 Day Map Challenge\n",
    "\n",
    "For this map I wanted to integrate the [Felt API](https://feltmaps.notion.site/Getting-Started-With-The-Felt-API-69c8b02b7d8e436daa657a04a2dbaffa#32523405d0e64aafbc7cfde5fe13803c) with [Wherobots Cloud](https://wherobots.com) so I could do some geospatial analysis using Spatial SQL and SedonaDB, then publish the results of my analysis to Felt's beautiful web-based mapping tooling.\n",
    "\n",
    "I decided to use data from [BirdBuddy](https://mybirdbuddy.com/), which publishes data about bird sightings at its smart birdfeeders to find the range of some of my favorite bird species. \n",
    "\n",
    "![](https://raw.githubusercontent.com/johnymontana/30-day-map-challenge/a865cfc0524e97ef10e68debfe009088054133fb/img/03-polygons-final.png)\n",
    "\n",
    "You can follow along by creating a free account on [Wherobots Cloud.](https://www.wherobots.services)"
   ]
  },
  {
   "cell_type": "code",
   "execution_count": null,
   "id": "c5cc98a6",
   "metadata": {},
   "outputs": [],
   "source": [
    "from sedona.spark import *\n",
    "import geopandas\n",
    "import requests"
   ]
  },
  {
   "cell_type": "code",
   "execution_count": null,
   "id": "19c05b7e",
   "metadata": {},
   "outputs": [],
   "source": [
    "config = SedonaContext.builder().appName('bird-buddy-etl').config(\"spark.hadoop.fs.s3a.bucket.wherobots-geodata.aws.credentials.provider\",\"org.apache.hadoop.fs.s3a.AnonymousAWSCredentialsProvider\").getOrCreate()\n",
    "sedona = SedonaContext.create(config)"
   ]
  },
  {
   "cell_type": "markdown",
   "id": "c08cc52f",
   "metadata": {},
   "source": [
    "## Bird Buddy & Wherobots Cloud File Management\n",
    "\n",
    "Our data comes from [Bird Buddy](https://live.mybirdbuddy.com/) which makes a smart bird feeder than can identify bird species and (optionally) report their location.\n",
    "\n",
    "![](https://raw.githubusercontent.com/johnymontana/30-day-map-challenge/a865cfc0524e97ef10e68debfe009088054133fb/img/bird_buddy1.png)\n",
    "\n",
    "Bird Buddy publishes its data as CSV files so we'll download the latest and then upload the file to our Wherobots Cloud instance via the \"Files\" tab. The free tier of Wherobots cloud includes free data storage in AWS S3 which we can access within the Wherobots notebook environment.\n",
    "\n",
    "![](https://raw.githubusercontent.com/johnymontana/30-day-map-challenge/a865cfc0524e97ef10e68debfe009088054133fb/img/files.png)\n",
    "\n",
    "Once you've uploaded a file you can click the copy file icon to copy the file's S3 path to access the file via the Wherobots notebook environment. Note that these files are private to your Wherobots organization, so the S3 URL below won't be accessible to anyone outside my organization.\n"
   ]
  },
  {
   "cell_type": "code",
   "execution_count": null,
   "id": "02828bfd",
   "metadata": {},
   "outputs": [],
   "source": [
    "S3_URL = \"s3://wherobots-geodata/all_metadata_september.csv\""
   ]
  },
  {
   "cell_type": "markdown",
   "id": "fd6399e0",
   "metadata": {},
   "source": [
    "Now we'll load the BirdBuddy CSV data and convert to a SedonaDB DataFrame so we can use Spatial SQL to find the range of each species."
   ]
  },
  {
   "cell_type": "code",
   "execution_count": null,
   "id": "b0094457",
   "metadata": {},
   "outputs": [],
   "source": [
    "bb_df = sedona.read.format('csv').option('header','true').option('delimiter', ',').load(S3_URL)\n",
    "bb_df.show(5)"
   ]
  },
  {
   "cell_type": "markdown",
   "id": "5163719c",
   "metadata": {},
   "source": [
    "```\n",
    "+-------------------+--------------------+----------+-----------------+----------------+\n",
    "|anonymized_latitude|anonymized_longitude| timestamp|      common_name| scientific_name|\n",
    "+-------------------+--------------------+----------+-----------------+----------------+\n",
    "|          45.441235|          -122.51253|2023-09...|  dark eyed junco|      junco h...|\n",
    "|           41.75291|            -83.6242|2023-09...|northern cardinal|cardinalis ca...|\n",
    "|            43.8762|            -78.9261|2023-09...|northern cardinal|cardinalis ca...|\n",
    "|            33.7657|            -84.2951|2023-09...|northern cardinal|cardinalis ca...|\n",
    "|            30.4805|            -84.2243|2023-09...|northern cardinal|cardinalis ca...|\n",
    "+-------------------+--------------------+----------+-----------------+----------------+\n",
    "only showing top 5 rows\n",
    "```"
   ]
  },
  {
   "cell_type": "markdown",
   "id": "013d964d",
   "metadata": {},
   "source": [
    "## Spatial SQL With SedonaDB\n",
    "\n",
    "Now we're ready to use the power of Spatial SQL to analyze our Bird Buddy data. We want to find the range of each species, but first let's explore the data. \n",
    "\n",
    "First we'll convert our latitude and longitude fields into Point geometries."
   ]
  },
  {
   "cell_type": "code",
   "execution_count": null,
   "id": "385eff2e",
   "metadata": {},
   "outputs": [],
   "source": [
    "bb_df = bb_df.selectExpr('ST_Point(CAST(anonymized_longitude AS Decimal(24,20)), CAST(anonymized_latitude AS Decimal(24,20))) AS location', 'timestamp', 'common_name', 'scientific_name')\n",
    "bb_df.createOrReplaceTempView('bb')\n",
    "bb_df.show(5)"
   ]
  },
  {
   "cell_type": "markdown",
   "id": "1ec1e65d",
   "metadata": {},
   "source": [
    "```\n",
    "+--------------------+--------------------+-----------------+--------------------+\n",
    "|            location|           timestamp|      common_name|     scientific_name|\n",
    "+--------------------+--------------------+-----------------+--------------------+\n",
    "|POINT (-122.51253...|2023-09-01 00:00:...|  dark eyed junco|      junco hyemalis|\n",
    "|POINT (-83.6242 4...|2023-09-01 00:00:...|northern cardinal|cardinalis cardin...|\n",
    "|POINT (-78.9261 4...|2023-09-01 00:00:...|northern cardinal|cardinalis cardin...|\n",
    "|POINT (-84.2951 3...|2023-09-01 00:00:...|northern cardinal|cardinalis cardin...|\n",
    "|POINT (-84.2243 3...|2023-09-01 00:00:...|northern cardinal|cardinalis cardin...|\n",
    "+--------------------+--------------------+-----------------+--------------------+\n",
    "only showing top 5 rows\n",
    "```"
   ]
  },
  {
   "cell_type": "code",
   "execution_count": null,
   "id": "62871830",
   "metadata": {},
   "outputs": [],
   "source": [
    "bb_df.count()"
   ]
  },
  {
   "cell_type": "markdown",
   "id": "3bcae544",
   "metadata": {},
   "source": [
    "```\n",
    "13972003\n",
    "```"
   ]
  },
  {
   "cell_type": "markdown",
   "id": "f556ed7d",
   "metadata": {},
   "source": [
    "If we wanted to find all observations of Juncos in the data we can write a SQL query to filter the results and visualize the observations on a map using `SedonaKepler`, the SedonaDB integration for Kepler.gl"
   ]
  },
  {
   "cell_type": "code",
   "execution_count": null,
   "id": "dd684a59",
   "metadata": {},
   "outputs": [],
   "source": [
    "junco_df = sedona.sql(\"SELECT * FROM bb WHERE common_name LIKE '%junco' \")\n",
    "junco_df.show(5)"
   ]
  },
  {
   "cell_type": "markdown",
   "id": "a4e4e530",
   "metadata": {},
   "source": [
    "```\n",
    "+--------------------+--------------------+---------------+---------------+\n",
    "|            location|           timestamp|    common_name|scientific_name|\n",
    "+--------------------+--------------------+---------------+---------------+\n",
    "|POINT (-122.51253...|2023-09-01 00:00:...|dark eyed junco| junco hyemalis|\n",
    "|POINT (-94.5916 3...|2023-09-01 00:00:...|dark eyed junco| junco hyemalis|\n",
    "|POINT (-85.643 31...|2023-09-01 00:00:...|dark eyed junco| junco hyemalis|\n",
    "|POINT (-87.7645 3...|2023-09-01 00:00:...|dark eyed junco| junco hyemalis|\n",
    "|POINT (-122.16346...|2023-09-01 00:00:...|dark eyed junco| junco hyemalis|\n",
    "+--------------------+--------------------+---------------+---------------+\n",
    "only showing top 5 rows\n",
    "```"
   ]
  },
  {
   "cell_type": "code",
   "execution_count": null,
   "id": "9d2eca9c",
   "metadata": {},
   "outputs": [],
   "source": [
    "SedonaKepler.create_map(df=junco_df, name='Juncos')"
   ]
  },
  {
   "cell_type": "markdown",
   "id": "be89d8e4",
   "metadata": {},
   "source": [
    "![](https://raw.githubusercontent.com/johnymontana/30-day-map-challenge/a865cfc0524e97ef10e68debfe009088054133fb/img/juncos_map.png)"
   ]
  },
  {
   "cell_type": "markdown",
   "id": "26d6fde8",
   "metadata": {},
   "source": [
    "Based on the map above it looks like Juncos have quite a large range throughout North America. Next, we'll filter the dataset to a few of my favorite bird species, then use the power of Spatial SQL with a `GROUP BY` operation to create convex hulls (polygon geometries) from the individual observations (point geometries) of each species."
   ]
  },
  {
   "cell_type": "code",
   "execution_count": null,
   "id": "4bb0d92d",
   "metadata": {},
   "outputs": [],
   "source": [
    "range_df = sedona.sql(\"\"\"\n",
    "    SELECT common_name, COUNT(*) AS num, ST_ConvexHull(ST_Union_aggr(location)) AS geometry \n",
    "    FROM bb \n",
    "    WHERE common_name IN ('california towhee', 'steller’s jay', 'mountain chickadee', 'eastern bluebird') \n",
    "    GROUP BY common_name \n",
    "    ORDER BY num DESC\n",
    "\"\"\")\n",
    "range_df.show()"
   ]
  },
  {
   "cell_type": "markdown",
   "id": "2597687d",
   "metadata": {},
   "source": [
    "```\n",
    "+------------------+-----+--------------------+\n",
    "|       common_name|  num|            geometry|\n",
    "+------------------+-----+--------------------+\n",
    "|  eastern bluebird|65971|POLYGON ((-80.345...|\n",
    "|     steller’s jay|37864|POLYGON ((-110.26...|\n",
    "| california towhee|22007|POLYGON ((-117.05...|\n",
    "|mountain chickadee| 4102|POLYGON ((-110.99...|\n",
    "+------------------+-----+--------------------+\n",
    "```"
   ]
  },
  {
   "cell_type": "markdown",
   "id": "f23e3777",
   "metadata": {},
   "source": [
    "The Felt API supports file uploads in a variety of formats, but we'll use GeoJSON. We'll convert our SedonaDB DataFrame into a GeoPandas GeoDataFrame and then export to a GeoJSON file so we can upload it to the Felt API."
   ]
  },
  {
   "cell_type": "code",
   "execution_count": null,
   "id": "98fc20a5",
   "metadata": {},
   "outputs": [],
   "source": [
    "range_gdf = geopandas.GeoDataFrame(range_df.toPandas(), geometry=\"geometry\")\n",
    "range_gdf.to_file('birdbuddy_range.geojson', driver='GeoJSON')"
   ]
  },
  {
   "cell_type": "markdown",
   "id": "32f6c4db",
   "metadata": {},
   "source": [
    "Our GeoJSON file looks a bit like this (we've omitted some lines):\n",
    "\n",
    "```\n",
    "{\n",
    "    \"type\": \"FeatureCollection\",\n",
    "    \"features\": [\n",
    "        {\n",
    "            \"type\": \"Feature\",\n",
    "            \"properties\": {\n",
    "                \"common_name\": \"eastern bluebird\",\n",
    "                \"num\": 65971\n",
    "            },\n",
    "            \"geometry\": {\n",
    "                \"type\": \"Polygon\",\n",
    "                \"coordinates\": [\n",
    "                    [\n",
    "                        [\n",
    "                            -80.3452,\n",
    "                            25.6062\n",
    "                        ],\n",
    "                        [\n",
    "                            -98.2271,\n",
    "                            26.2516\n",
    "                        ],\n",
    "                        ...\n",
    "                        [\n",
    "                            -80.3452,\n",
    "                            25.6062\n",
    "                        ]\n",
    "                    ]\n",
    "                ]\n",
    "            }\n",
    "        },\n",
    "        ...\n",
    "    ]\n",
    "}\n",
    "```"
   ]
  },
  {
   "cell_type": "markdown",
   "id": "d4511b59",
   "metadata": {},
   "source": [
    "## Felt Maps API\n",
    "\n",
    "If you haven't already, create a free [Felt](https://felt.com/) account and then in your account settings generate a new access token so you'll be able to create maps and upload data via the Felt API.\n",
    "\n",
    "![](https://raw.githubusercontent.com/johnymontana/30-day-map-challenge/a865cfc0524e97ef10e68debfe009088054133fb/img/felt_api.png)"
   ]
  },
  {
   "cell_type": "code",
   "execution_count": null,
   "id": "09bb997b",
   "metadata": {},
   "outputs": [],
   "source": [
    "FELT_TOKEN = '<YOUR_TOKEN_HERE>'"
   ]
  },
  {
   "cell_type": "markdown",
   "id": "23e51b23",
   "metadata": {},
   "source": [
    "The function below will create a new map in Felt, then create a new layer and upload our GeoJSON file to this layer. See the [Felt API docs](https://feltmaps.notion.site/Felt-Public-API-reference-c01e0e6b0d954a678c608131b894e8e1) for more examples of what's possible with the Felt API."
   ]
  },
  {
   "cell_type": "code",
   "execution_count": null,
   "id": "ebe3abed",
   "metadata": {},
   "outputs": [],
   "source": [
    "def create_felt_map(access_token, filename, map_title, layer_name):\n",
    "    \n",
    "    # First create a new map using the /maps endpoint\n",
    "    create_map_response = requests.post(\n",
    "        f\"https://felt.com/api/v1/maps\",\n",
    "        headers={\n",
    "            \"authorization\": f\"Bearer {access_token}\",\n",
    "            \"content-type\": \"application/json\",\n",
    "        },\n",
    "        json={\"title\": map_title},\n",
    "    )\n",
    "    create_map_data = create_map_response.json()\n",
    "    map_id = create_map_data['data']['id']\n",
    "    map_url = create_map_data['data']['attributes']['url']\n",
    "    print(create_map_data)\n",
    "    \n",
    "    # Next, we'll create a new layer and get a presigned upload url so we can upload our GeoJSON file\n",
    "    layer_response = requests.post(\n",
    "    f\"https://felt.com/api/v1/maps/{map_id}/layers\",\n",
    "    headers={\n",
    "        \"authorization\": f\"Bearer {access_token}\",\n",
    "        \"content-type\": \"application/json\",\n",
    "    },\n",
    "    json={\"file_names\": [filename], \"name\": layer_name},\n",
    "    )\n",
    "    \n",
    "    # This endpoint will return a pre-signed URL that we use to upload the file to Felt\n",
    "    presigned_upload = layer_response.json()\n",
    "    url = presigned_upload[\"data\"][\"attributes\"][\"url\"]\n",
    "    presigned_attributes = presigned_upload[\"data\"][\"attributes\"][\"presigned_attributes\"]\n",
    "    \n",
    "    # A 204 response indicates that the upload was successful\n",
    "    with open(filename, \"rb\") as file_obj:\n",
    "        output = requests.post(\n",
    "            url,\n",
    "            # Order is important, file should come at the end\n",
    "            files={**presigned_attributes, \"file\": file_obj},\n",
    "        )\n",
    "    layer_id = presigned_upload['data']['attributes']['layer_id']\n",
    "    print(output)\n",
    "    print(layer_id)\n",
    "    print(presigned_upload)\n",
    "    \n",
    "    # Finally, we call the /maps/:map_id/layers/:layer_id/finish_upload endpoint to complete the process\n",
    "    finish_upload = requests.post(\n",
    "        f\"https://felt.com/api/v1/maps/{map_id}/layers/{layer_id}/finish_upload\",\n",
    "        headers={\n",
    "            \"authorization\": f\"Bearer {access_token}\",\n",
    "            \"content-type\": \"application/json\"},\n",
    "            json={\"filename\": filename, \"name\": layer_name},\n",
    "    )\n",
    "    print(finish_upload.json())"
   ]
  },
  {
   "cell_type": "code",
   "execution_count": null,
   "id": "216a9b1a",
   "metadata": {},
   "outputs": [],
   "source": [
    "create_felt_map(FELT_TOKEN, \"birdbuddy_range.geojson\", \"North American Bird Ranges\", \"My Favorite Birds\")"
   ]
  },
  {
   "cell_type": "markdown",
   "id": "3a45aca2",
   "metadata": {},
   "source": [
    "We've now created a new map in Felt and uploaded our GeoJSON data as a new layer. We can also embed the map in our Jupyter notebook:"
   ]
  },
  {
   "cell_type": "code",
   "execution_count": null,
   "id": "fa7fbce1",
   "metadata": {},
   "outputs": [],
   "source": [
    "from IPython.display import HTML\n",
    "HTML('<iframe width=\"1600\" height=\"600\" frameborder=\"0\" title=\"My Favorite Bird Ranges\" src=\"https://felt.com/embed/map/North-American-Bird-Ranges-a4c5cOCaRMiL64KK5N27TA\"></iframe>\"')"
   ]
  },
  {
   "cell_type": "markdown",
   "id": "7bd17bdd",
   "metadata": {},
   "source": [
    "![](https://raw.githubusercontent.com/johnymontana/30-day-map-challenge/a865cfc0524e97ef10e68debfe009088054133fb/img/felt_embed.png)"
   ]
  },
  {
   "cell_type": "code",
   "execution_count": null,
   "id": "de55a5d2",
   "metadata": {},
   "outputs": [],
   "source": []
  }
 ],
 "metadata": {
  "kernelspec": {
   "display_name": "Python 3 (ipykernel)",
   "language": "python",
   "name": "python3"
  },
  "language_info": {
   "codemirror_mode": {
    "name": "ipython",
    "version": 3
   },
   "file_extension": ".py",
   "mimetype": "text/x-python",
   "name": "python",
   "nbconvert_exporter": "python",
   "pygments_lexer": "ipython3",
   "version": "3.10.11"
  }
 },
 "nbformat": 4,
 "nbformat_minor": 5
}
