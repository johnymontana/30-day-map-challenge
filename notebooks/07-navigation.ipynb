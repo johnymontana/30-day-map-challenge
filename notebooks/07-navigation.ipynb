{
 "cells": [
  {
   "cell_type": "markdown",
   "id": "508adc0a",
   "metadata": {},
   "source": [
    "## Navigation\n",
    "\n",
    "### Day 3 - 30 Day Map Challenge\n",
    "\n",
    "Every year with my family I head out into a nearby National Forest with a saw (except when I forget to bring it) and a National Forest Motor Vehicle User Map (MVUM) to find the annual Lyon family Christmas tree. I always wondered if I could find the data for the MVUMs to make my own map for hunting Christmas trees - so that's what I did for this map!\n",
    "\n",
    "I also did a bit of research using aerial imagery and QGIS to find areas that might have the perfect Christmas trees, then loaded the National Forest MVUM data in [Wherobots Cloud](https://www.wherobots.services) to find the forest service roads leading to the areas I annotated in QGIS.\n",
    "\n",
    "\n",
    "![](../img/07-navigation-final.png)\n",
    "\n",
    "To follow along create a free account in [Wherobots Cloud](https://www.wherobots.services)"
   ]
  },
  {
   "cell_type": "code",
   "execution_count": null,
   "id": "c6a848a4",
   "metadata": {},
   "outputs": [],
   "source": [
    "from sedona.spark import *\n",
    "from pyspark.sql.functions import expr\n",
    "from sedona.core.formatMapper.shapefileParser import ShapefileReader\n",
    "from sedona.utils.adapter import Adapter\n",
    "import geopandas"
   ]
  },
  {
   "cell_type": "code",
   "execution_count": null,
   "id": "05fc12d9",
   "metadata": {},
   "outputs": [],
   "source": [
    "config = SedonaContext.builder().appName('navigation')\\\n",
    "    .config(\"spark.hadoop.fs.s3a.bucket.wherobots-examples-prod.aws.credentials.provider\",\"org.apache.hadoop.fs.s3a.AnonymousAWSCredentialsProvider\")\\\n",
    "    .getOrCreate()\n",
    "sedona = SedonaContext.create(config)"
   ]
  },
  {
   "cell_type": "code",
   "execution_count": null,
   "id": "2aa6f1c1",
   "metadata": {},
   "outputs": [],
   "source": []
  },
  {
   "cell_type": "markdown",
   "id": "771c89f0",
   "metadata": {},
   "source": [
    "## Loading National Forest Motor Vehicle User Map Data\n",
    "\n",
    "The USFS publishes the National Forest Motor Vehicle User Map (MVUM) which shows roads and trails for accessing National Forest land. These maps are usually my primary navigation method when I'm driving into a National Forest. The USFS makes this map data available for download [here](https://data-usfs.hub.arcgis.com/datasets/motor-vehicle-use-map-roads-feature-layer/explore) as GeoJSON, CSV, or Shapefile.\n",
    "\n",
    "I downloaded the Shapefile format, then uploaded it to Wherobots Cloud via the \"Files\" tab, which allows me to access this data via S3.\n",
    "\n",
    "![](../img/navigation/files1.png)\n",
    "\n",
    "Now we're ready to import that Shapefile into SedonaDB.\n"
   ]
  },
  {
   "cell_type": "code",
   "execution_count": null,
   "id": "c8827cef",
   "metadata": {},
   "outputs": [],
   "source": [
    "S3_URL_ROADS_SHP = \"s3://<PATH TO YOUR SHAPEFILE DIR HERE>\""
   ]
  },
  {
   "cell_type": "code",
   "execution_count": null,
   "id": "4906b8ed",
   "metadata": {},
   "outputs": [],
   "source": [
    "# To import a Shapefile into SedonaDB we can use the built-in ShapefileReader which will\n",
    "#   give us a SpatialRDD then convert that SpatialRDD to a Spatial DataFrame\n",
    "# Then we create a new view called roads with this MVUM map data\n",
    "# Finally we print the schema of the roads_df DataFrame\n",
    "\n",
    "spatialRDD = ShapefileReader.readToGeometryRDD(sedona, S3_URL_ROADS_SHP)\n",
    "roads_df = Adapter.toDf(spatialRDD, sedona)\n",
    "roads_df.createOrReplaceTempView(\"roads\")\n",
    "roads_df.printSchema()"
   ]
  },
  {
   "cell_type": "markdown",
   "id": "1005707e",
   "metadata": {},
   "source": [
    "```\n",
    "root\n",
    " |-- geometry: geometry (nullable = true)\n",
    " |-- OBJECTID: string (nullable = true)\n",
    " |-- RTE_CN: string (nullable = true)\n",
    " |-- ID: string (nullable = true)\n",
    " |-- NAME: string (nullable = true)\n",
    " |-- BMP: string (nullable = true)\n",
    " |-- EMP: string (nullable = true)\n",
    " |-- SEG_LENGTH: string (nullable = true)\n",
    " |-- GIS_MILES: string (nullable = true)\n",
    " |-- SYMBOL: string (nullable = true)\n",
    " |-- MVUM_SYMBO: string (nullable = true)\n",
    " |-- JURISDICTI: string (nullable = true)\n",
    " |-- OPERATIONA: string (nullable = true)\n",
    " |-- SURFACETYP: string (nullable = true)\n",
    " |-- SYSTEM: string (nullable = true)\n",
    " |-- SEASONAL: string (nullable = true)\n",
    " |-- PASSENGERV: string (nullable = true)\n",
    " |-- PASSENGE_1: string (nullable = true)\n",
    " |-- HIGHCLEARA: string (nullable = true)\n",
    " |-- HIGHCLEA_1: string (nullable = true)\n",
    " |-- TRUCK: string (nullable = true)\n",
    " |-- TRUCK_DATE: string (nullable = true)\n",
    " |-- BUS: string (nullable = true)\n",
    " |-- BUS_DATESO: string (nullable = true)\n",
    " |-- MOTORHOME: string (nullable = true)\n",
    " |-- MOTORHOME_: string (nullable = true)\n",
    " |-- FOURWD_GT5: string (nullable = true)\n",
    " |-- FOURWD_G_1: string (nullable = true)\n",
    " |-- TWOWD_GT50: string (nullable = true)\n",
    " |-- TWOWD_GT_1: string (nullable = true)\n",
    " |-- TRACKED_OH: string (nullable = true)\n",
    " |-- TRACKED__1: string (nullable = true)\n",
    " |-- OTHER_OHV_: string (nullable = true)\n",
    " |-- OTHER_OH_1: string (nullable = true)\n",
    " |-- ATV: string (nullable = true)\n",
    " |-- ATV_DATESO: string (nullable = true)\n",
    " |-- MOTORCYCLE: string (nullable = true)\n",
    " |-- MOTORCYC_1: string (nullable = true)\n",
    " |-- OTHERWHEEL: string (nullable = true)\n",
    " |-- OTHERWHE_1: string (nullable = true)\n",
    " |-- TRACKED__2: string (nullable = true)\n",
    " |-- TRACKED__3: string (nullable = true)\n",
    " |-- OTHER_OH_2: string (nullable = true)\n",
    " |-- OTHER_OH_3: string (nullable = true)\n",
    " |-- ADMINORG: string (nullable = true)\n",
    " |-- SECURITYID: string (nullable = true)\n",
    " |-- DISTRICTNA: string (nullable = true)\n",
    " |-- FORESTNAME: string (nullable = true)\n",
    " |-- FIELD_ID: string (nullable = true)\n",
    " |-- SBS_SYMBOL: string (nullable = true)\n",
    " |-- ROUTESTATU: string (nullable = true)\n",
    " |-- GLOBALID: string (nullable = true)\n",
    " |-- TA_SYMBOL: string (nullable = true)\n",
    " |-- SHAPE: string (nullable = true)\n",
    " |-- SHAPELEN: string (nullable = true)\n",
    "```"
   ]
  },
  {
   "cell_type": "markdown",
   "id": "6522ee5c",
   "metadata": {},
   "source": [
    "Now that we've created a view with our roads data we can use Spatial SQL to query our MVUM data."
   ]
  },
  {
   "cell_type": "code",
   "execution_count": null,
   "id": "659cdb34",
   "metadata": {},
   "outputs": [],
   "source": [
    "sedona.sql(\"SELECT COUNT(*) AS num FROM roads\").show()"
   ]
  },
  {
   "cell_type": "markdown",
   "id": "2d46ec9f",
   "metadata": {},
   "source": [
    "+------+\n",
    "|   num|\n",
    "+------+\n",
    "|151457|\n",
    "+------+"
   ]
  },
  {
   "cell_type": "markdown",
   "id": "3652b1e0",
   "metadata": {},
   "source": [
    "Since we're going to be hunting for Christmas trees near Santa, Idaho we know we're only interested in roads within the Idaho Panhandle National Forests."
   ]
  },
  {
   "cell_type": "code",
   "execution_count": null,
   "id": "a7f8f092",
   "metadata": {},
   "outputs": [],
   "source": [
    "idaho_df = sedona.sql(\"\"\"\n",
    "SELECT geometry, NAME as name, FORESTNAME AS forest, SEASONAL AS seasonal, SYMBOL AS symbol FROM roads\n",
    "WHERE FORESTNAME = 'Idaho Panhandle National Forests'\n",
    "\"\"\")\n",
    "idaho_df.createOrReplaceTempView(\"idaho\")\n",
    "idaho_df.show(5)"
   ]
  },
  {
   "cell_type": "markdown",
   "id": "66bf30bc",
   "metadata": {},
   "source": [
    "```\n",
    "+--------------------+-----------------+--------------------+--------+------+\n",
    "|            geometry|             name|              forest|seasonal|symbol|\n",
    "+--------------------+-----------------+--------------------+--------+------+\n",
    "|LINESTRING (-115....|   DOMINION CREEK|Idaho Panhandle N...|yearlong|     3|\n",
    "|LINESTRING (-116....|   PLACER RIDGE A|Idaho Panhandle N...|yearlong|     1|\n",
    "|LINESTRING (-116....|      RAINEY HILL|Idaho Panhandle N...|yearlong|     1|\n",
    "|LINESTRING (-117....|          URANIUM|Idaho Panhandle N...|yearlong|     1|\n",
    "|LINESTRING (-116....|HAMILTON MOUNTAIN|Idaho Panhandle N...|yearlong|     1|\n",
    "+--------------------+-----------------+--------------------+--------+------+\n",
    "```"
   ]
  },
  {
   "cell_type": "code",
   "execution_count": null,
   "id": "5ecdc5fe",
   "metadata": {},
   "outputs": [],
   "source": [
    "SedonaKepler.create_map(idaho_df, name=\"Roads\")"
   ]
  },
  {
   "cell_type": "markdown",
   "id": "4703fcf5",
   "metadata": {},
   "source": [
    "![](../img/navigation/kepler_roads.png)"
   ]
  },
  {
   "cell_type": "markdown",
   "id": "c992a54f",
   "metadata": {},
   "source": [
    "That's a lot of roads! How are we going to figure out where the best Christmas trees are? Let's look at aerial imagery of the area to find what look like nice tree stands to help narrow down the hunt a bit. We'll use my favorite desktop GIS tool QGIS for this."
   ]
  },
  {
   "cell_type": "markdown",
   "id": "e9c496b0",
   "metadata": {},
   "source": [
    "## Annotating Aerial Imagery In QGIS\n",
    "\n",
    "QGIS by default includes tile layers from OpenStreetMap, but we can also add other tile server connections to bring in tile layers from other providers. [This StackExchange answer](https://gis.stackexchange.com/questions/20191/adding-basemaps-in-qgis/217670#217670) describes how to add aerial imagery from Google and Bing to QGIS.\n",
    "\n",
    "\n",
    "![](../img/navigation/qgis_newtiles.png)\n",
    "\n",
    "![](../img/navigation/qgis_google.png)\n",
    "\n",
    "Once we add the aerial imagery tile layer we can start to explore the area where we hope to find some great Christmas trees, in this case in the Idaho Panhandle National Forests. We're looking for nice heavy green tree stands, not too much vertical variation for easy access and not near streams and rivers or hiking trails. \n",
    "\n",
    "Let's add a new layer to our QGIS project so we can keep track of where these tree stands are. I chose a Geopackage layer with Polygon geometry because we're going to draw polygons over the aerial imagery to indicate places that we think will be good for potential trees.\n",
    "\n",
    "![](../img/navigation/qgis_newlayer.png)\n",
    "\n",
    "Right-click on the layer and choose \"Toggle editing\" then click the icon to create a new polygon. We can now draw polygons over the aerial imagery, each new polygon will be added as a new feature to our new Geopackage layer. I didn't create any other fields so the `fid` is a sequence that will be autogenerated. If you wanted to keep notes about why you thought this area looked good you could do that by adding another field to the layer.\n",
    "\n",
    "![](../img/navigation/qgis_polygon.png)\n",
    "\n",
    "Once we've annotated a few areas (I found 5 or 6) we can right click on our layer and select \"Save as\". I exported this layer as GeoJSON, to a file called `idaho_treestands.geojson`.\n",
    "\n",
    "![](../img/navigation/qgis_exportgeojson.png)\n",
    "\n"
   ]
  },
  {
   "cell_type": "markdown",
   "id": "5524e967",
   "metadata": {},
   "source": [
    "## Finding Roads To Our Tree Stands With SedonaDB\n",
    "\n",
    "Now that we've exported our polygon annotations as GeoJSON it's time to import that data into SedonaDB along with our road data so we can the Forest Service roads that will take us to our tree stands. Return to the \"Files\" tab in Wherobots Cloud and upload the GeoJSON file we just exported from QGIS.\n",
    "\n",
    "![](../img/navigation/files2.png)\n"
   ]
  },
  {
   "cell_type": "code",
   "execution_count": null,
   "id": "671b6221",
   "metadata": {},
   "outputs": [],
   "source": [
    "S3_URL_TREES = \"s3://<PATH TO YOUR GEOJSON FILE HERE>\""
   ]
  },
  {
   "cell_type": "markdown",
   "id": "deeb2b23",
   "metadata": {},
   "source": [
    "To import GeoJSON into SedonaDB we can use Spark's built-in JSON import functionality if we first define the schema used by GeoJSON."
   ]
  },
  {
   "cell_type": "code",
   "execution_count": null,
   "id": "65acb099",
   "metadata": {},
   "outputs": [],
   "source": [
    "schema = \"type string, name string, crs string, features array<struct<type string, geometry string, properties map<string, string>>>\""
   ]
  },
  {
   "cell_type": "code",
   "execution_count": null,
   "id": "dffba9f8",
   "metadata": {},
   "outputs": [],
   "source": [
    "tree_df = sedona.read.option('multiline', True).json(S3_URL_TREES, schema=schema).selectExpr(\"explode(features) as features\").select(\"features.*\").withColumn(\"geometry\", expr(\"ST_GeomFromGeoJson(geometry)\")).withColumn(\"fid\", expr(\"properties['fid']\")).drop(\"properties\").drop(\"type\")\n",
    "tree_df.createOrReplaceTempView(\"trees\")\n",
    "tree_df.show(5)"
   ]
  },
  {
   "cell_type": "markdown",
   "id": "cd7b5898",
   "metadata": {},
   "source": [
    "```\n",
    "+--------------------+---+\n",
    "|            geometry|fid|\n",
    "+--------------------+---+\n",
    "|POLYGON ((-116.52...|  1|\n",
    "|POLYGON ((-116.54...|  2|\n",
    "|POLYGON ((-116.12...|  3|\n",
    "|POLYGON ((-116.16...|  4|\n",
    "|POLYGON ((-116.09...|  5|\n",
    "+--------------------+---+\n",
    "only showing top 5 rows\n",
    "```"
   ]
  },
  {
   "cell_type": "code",
   "execution_count": null,
   "id": "cdd2581a",
   "metadata": {},
   "outputs": [],
   "source": [
    "SedonaKepler.create_map(tree_df, name=\"Tree Stands\")"
   ]
  },
  {
   "cell_type": "markdown",
   "id": "83387a45",
   "metadata": {},
   "source": [
    "![](../img/navigation/kepler_trees.png)"
   ]
  },
  {
   "cell_type": "markdown",
   "id": "dc4d7935",
   "metadata": {},
   "source": [
    "As we can see above I found 6 possible tree stands I want to explore. Now we can do a spatial join operation to find the Forest Service roads nearest these tree stands. We could either use the `ST_Distance` Spatial SQL function to find the closest roads or perhaps use the `ST_Intersects` predicate if we just want to find the roads that go through the tree stands we annotated."
   ]
  },
  {
   "cell_type": "code",
   "execution_count": null,
   "id": "5a438c2e",
   "metadata": {},
   "outputs": [],
   "source": [
    "routes1_df = sedona.sql(\"\"\"\n",
    "SELECT idaho.geometry, name, forest, seasonal, symbol\n",
    "FROM idaho, trees\n",
    "WHERE ST_Intersects(trees.geometry, idaho.geometry)\n",
    "\"\"\")\n",
    "\n",
    "routes1_df.show()"
   ]
  },
  {
   "cell_type": "markdown",
   "id": "e30ff79d",
   "metadata": {},
   "source": [
    "```\n",
    "+--------------------+----------------+--------------------+--------+------+\n",
    "|            geometry|            name|              forest|seasonal|symbol|\n",
    "+--------------------+----------------+--------------------+--------+------+\n",
    "|LINESTRING (-116....|  PALOUSE DIVIDE|Idaho Panhandle N...|yearlong|     1|\n",
    "|LINESTRING (-116....|  CLARKIA MARBLE|Idaho Panhandle N...|yearlong|     1|\n",
    "|LINESTRING (-116....|BONNEVILLE POWER|Idaho Panhandle N...|yearlong|     1|\n",
    "|LINESTRING (-116....|       SWAN PEAK|Idaho Panhandle N...|yearlong|     1|\n",
    "|LINESTRING (-116....|  CORNWALL CREEK|Idaho Panhandle N...|yearlong|     1|\n",
    "|LINESTRING (-116....|     LACEY CREEK|Idaho Panhandle N...|yearlong|     1|\n",
    "|LINESTRING (-116....|       CRANBERRY|Idaho Panhandle N...|yearlong|     1|\n",
    "+--------------------+----------------+--------------------+--------+------+\n",
    "\n",
    "```"
   ]
  },
  {
   "cell_type": "code",
   "execution_count": null,
   "id": "6e1f7300",
   "metadata": {},
   "outputs": [],
   "source": [
    "map = SedonaKepler.create_map(routes1_df, name=\"routes\")\n",
    "SedonaKepler.add_df(map, tree_df, name=\"Tree Stands\")"
   ]
  },
  {
   "cell_type": "markdown",
   "id": "4cae5965",
   "metadata": {},
   "source": [
    "![](../img/navigation/kepler_route1.png)"
   ]
  },
  {
   "cell_type": "markdown",
   "id": "17a24adb",
   "metadata": {},
   "source": [
    "As we can see above most of our tree stands have Forest Service roads leading right though them. We want to expand our route a bit though - we want to know what roads we need to take to turn onto the roads that intersect our tree stands. To do this we can use a SQL subquery to find roads that either intersect or touch the roads that intersect our tree stands."
   ]
  },
  {
   "cell_type": "code",
   "execution_count": null,
   "id": "ccbcc85b",
   "metadata": {},
   "outputs": [],
   "source": [
    "routes_df = sedona.sql(\"\"\"\n",
    "SELECT DISTINCT idaho.geometry, idaho.name, idaho.forest, idaho.seasonal\n",
    "FROM (\n",
    "    SELECT idaho.geometry, name, forest, seasonal, symbol\n",
    "    FROM idaho, trees\n",
    "    WHERE ST_Intersects(trees.geometry, idaho.geometry)) AS routes, idaho\n",
    "WHERE ST_Touches(idaho.geometry, routes.geometry)\n",
    "\"\"\")\n",
    "routes_df.show()"
   ]
  },
  {
   "cell_type": "markdown",
   "id": "6ad35c4f",
   "metadata": {},
   "source": [
    "```\n",
    "+--------------------+------------------+--------------------+--------+\n",
    "|            geometry|              name|              forest|seasonal|\n",
    "+--------------------+------------------+--------------------+--------+\n",
    "|LINESTRING (-116....|    CLARKIA MARBLE|Idaho Panhandle N...|yearlong|\n",
    "|LINESTRING (-116....|     CHARLIE CREEK|Idaho Panhandle N...|yearlong|\n",
    "|LINESTRING (-116....|         CRANBERRY|Idaho Panhandle N...|yearlong|\n",
    "|LINESTRING (-116....|            CAMP 3|Idaho Panhandle N...|yearlong|\n",
    "|LINESTRING (-116....|    PALOUSE DIVIDE|Idaho Panhandle N...|yearlong|\n",
    "|LINESTRING (-116....|            3332 E|Idaho Panhandle N...|yearlong|\n",
    "|LINESTRING (-116....|   HOMESTEAD CREEK|Idaho Panhandle N...|yearlong|\n",
    "|LINESTRING (-116....|    PALOUSE DIVIDE|Idaho Panhandle N...|seasonal|\n",
    "|LINESTRING (-116....|       EAGLE CREEK|Idaho Panhandle N...|yearlong|\n",
    "|LINESTRING (-116....|  BONNEVILLE POWER|Idaho Panhandle N...|yearlong|\n",
    "|LINESTRING (-116....|CHARLIE CONNECTION|Idaho Panhandle N...|yearlong|\n",
    "|LINESTRING (-116....|             CRANE|Idaho Panhandle N...|yearlong|\n",
    "|LINESTRING (-116....|            3332 F|Idaho Panhandle N...|yearlong|\n",
    "|LINESTRING (-116....|            HOODOO|Idaho Panhandle N...|yearlong|\n",
    "|LINESTRING (-116....|       LACEY CREEK|Idaho Panhandle N...|yearlong|\n",
    "|LINESTRING (-116....|    CLARKIA MARBLE|Idaho Panhandle N...|yearlong|\n",
    "|LINESTRING (-116....|    CORNWALL CREEK|Idaho Panhandle N...|yearlong|\n",
    "+--------------------+------------------+--------------------+--------+\n",
    "```"
   ]
  },
  {
   "cell_type": "code",
   "execution_count": null,
   "id": "d3cb1f3a",
   "metadata": {},
   "outputs": [],
   "source": [
    "map2 = SedonaKepler.create_map(routes1_df, name=\"Routes\")\n",
    "SedonaKepler.add_df(map2, tree_df, name=\"Tree Stands\")\n",
    "SedonaKepler.add_df(map2, routes_df, name=\"Secondary routes\")\n",
    "map2"
   ]
  },
  {
   "cell_type": "markdown",
   "id": "49abe0e4",
   "metadata": {},
   "source": [
    "![](../img/navigation/kepler_routes.png)"
   ]
  },
  {
   "cell_type": "markdown",
   "id": "7546f030",
   "metadata": {},
   "source": [
    "That gives us a better indication of how to navigate to our tree stands! Next, we'll export our route data to GeoJSON to load back into QGIS to combine with other data from our MVUM dataset to create a navigation map so we can find our Christmas trees!"
   ]
  },
  {
   "cell_type": "code",
   "execution_count": null,
   "id": "870ad35c",
   "metadata": {},
   "outputs": [],
   "source": [
    "routes_gdf = geopandas.GeoDataFrame(routes_df.toPandas(), geometry=\"geometry\")\n",
    "routes_gdf.to_file('routes.geojson', driver='GeoJSON')"
   ]
  },
  {
   "cell_type": "markdown",
   "id": "44eb55fc",
   "metadata": {},
   "source": [
    "![](../img/07-navigation-final.png)"
   ]
  },
  {
   "cell_type": "code",
   "execution_count": null,
   "id": "7611f54d",
   "metadata": {},
   "outputs": [],
   "source": []
  }
 ],
 "metadata": {
  "kernelspec": {
   "display_name": "Python 3 (ipykernel)",
   "language": "python",
   "name": "python3"
  },
  "language_info": {
   "codemirror_mode": {
    "name": "ipython",
    "version": 3
   },
   "file_extension": ".py",
   "mimetype": "text/x-python",
   "name": "python",
   "nbconvert_exporter": "python",
   "pygments_lexer": "ipython3",
   "version": "3.11.5"
  }
 },
 "nbformat": 4,
 "nbformat_minor": 5
}
