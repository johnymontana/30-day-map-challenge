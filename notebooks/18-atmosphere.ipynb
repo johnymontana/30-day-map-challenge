{
 "cells": [
  {
   "cell_type": "markdown",
   "id": "54a17d78",
   "metadata": {},
   "source": [
    "## Atmosphere\n",
    "\n",
    "### Day 18 - 30 Day Map Challenge\n",
    "\n",
    "Over Thanksgiving I was tasked with digging out the bunny ears antenna so some of our relatives could watch sportball which got me thinking about data for TV service. I'm a big fan of the [Public Radio Atlas](https://publicradioatlas.org/) which makes beautiful maps showing Public Radio service areas using data from the FCC so I checked to see if similar data is available for broadcast television in the US. And it is! Using the [FCC's TV Service Contours dataset](https://www.fcc.gov/media/television/tv-service-contour-data-points) I put together this map looking at TV station density in the US. \n",
    "\n",
    "\n",
    "![](https://raw.githubusercontent.com/johnymontana/30-day-map-challenge/03b921e98df80984331defe812ec832ebeefbed3/img/18-atmosphere-final.png)\n",
    "\n",
    "\n",
    "I tried a few ways to visualize the contour data directly, but that proved difficult at large scale and I was looking for an excuse to use H3 hexagons anyway.\n",
    "\n",
    "To follow along create a free account in [Wherobots Cloud.](https://www.wherobots.services/)"
   ]
  },
  {
   "cell_type": "code",
   "execution_count": null,
   "id": "95b59797",
   "metadata": {},
   "outputs": [],
   "source": [
    "# All other dependencies are installed by default in Wherobots Cloud\n",
    "!pip install mapclassify"
   ]
  },
  {
   "cell_type": "code",
   "execution_count": null,
   "id": "47c02aff",
   "metadata": {},
   "outputs": [],
   "source": [
    "from sedona.spark import *\n",
    "import geopandas\n",
    "import matplotlib.pyplot as plt"
   ]
  },
  {
   "cell_type": "code",
   "execution_count": null,
   "id": "76a553a0",
   "metadata": {},
   "outputs": [],
   "source": [
    "config = SedonaContext.builder().appName('fcc')\\\n",
    "    .config(\"spark.hadoop.fs.s3a.bucket.wherobots-geodata.aws.credentials.provider\",\"org.apache.hadoop.fs.s3a.AnonymousAWSCredentialsProvider\")\\\n",
    "    .getOrCreate()\n",
    "sedona = SedonaContext.create(config)"
   ]
  },
  {
   "cell_type": "markdown",
   "id": "a36ca497",
   "metadata": {},
   "source": [
    "I downloaded the `TV_service_contour_current.txt` file from the FCC TV Service Contour dataset site and uploaded it to Wherobots Cloud.\n",
    "\n",
    "![](https://raw.githubusercontent.com/johnymontana/30-day-map-challenge/03b921e98df80984331defe812ec832ebeefbed3/img/atmosphere/files.png)\n",
    "\n",
    "The file is a pipe delimited flatfile with a few attributes such as the application_id, type of TV service, location of the transmitter site, and then coordinates for the extent of the service contour for each degree from 0-359. We can read this as a CSV file, but then we'll need to figure out how to convert the 360 columns each with a single coordinate into a Polygon geometry to represent the service area of each TV station."
   ]
  },
  {
   "cell_type": "code",
   "execution_count": null,
   "id": "42b84f80",
   "metadata": {},
   "outputs": [],
   "source": []
  },
  {
   "cell_type": "code",
   "execution_count": null,
   "id": "efbd32d1",
   "metadata": {},
   "outputs": [],
   "source": [
    "S3_URL_TV = \"s3://wherobots-geodata/TV_service_contour_current.txt\""
   ]
  },
  {
   "cell_type": "code",
   "execution_count": null,
   "id": "675b8151",
   "metadata": {},
   "outputs": [],
   "source": [
    "tv_df = sedona.read.format('csv').option('header', 'true').option('delimiter', '|').load(S3_URL_TV)"
   ]
  },
  {
   "cell_type": "code",
   "execution_count": null,
   "id": "4f0fdf2b",
   "metadata": {},
   "outputs": [],
   "source": [
    "tv_df.createOrReplaceTempView(\"tv\")"
   ]
  },
  {
   "cell_type": "code",
   "execution_count": null,
   "id": "b6a707bc",
   "metadata": {},
   "outputs": [],
   "source": [
    "tv_df.printSchema()"
   ]
  },
  {
   "cell_type": "markdown",
   "id": "30932858",
   "metadata": {},
   "source": [
    "```\n",
    "root\n",
    " |-- application_id: string (nullable = true)\n",
    " |-- service: string (nullable = true)\n",
    " |-- lms_application_id: string (nullable = true)\n",
    " |-- dts_site_number: string (nullable = true)\n",
    " |-- transmitter_site: string (nullable = true)\n",
    " |-- 0: string (nullable = true)\n",
    " |-- 1: string (nullable = true)\n",
    " |-- 2: string (nullable = true)\n",
    " |-- 3: string (nullable = true)\n",
    " |-- 4: string (nullable = true)\n",
    " |-- 5: string (nullable = true)\n",
    " |-- 6: string (nullable = true)\n",
    " |-- 7: string (nullable = true)\n",
    " |-- 8: string (nullable = true)\n",
    " |-- 9: string (nullable = true)\n",
    " |-- 10: string (nullable = true)\n",
    " |-- 11: string (nullable = true)\n",
    " |-- 12: string (nullable = true)\n",
    " |-- 13: string (nullable = true)\n",
    " |-- 14: string (nullable = true)\n",
    " |-- 15: string (nullable = true)\n",
    " |-- 16: string (nullable = true)\n",
    " |-- 17: string (nullable = true)\n",
    " |-- 18: string (nullable = true)\n",
    " |-- 19: string (nullable = true)\n",
    " |-- 20: string (nullable = true)\n",
    " |-- 21: string (nullable = true)\n",
    " |-- 22: string (nullable = true)\n",
    " |-- 23: string (nullable = true)\n",
    " |-- 24: string (nullable = true)\n",
    " |-- 25: string (nullable = true)\n",
    " |-- 26: string (nullable = true)\n",
    " |-- 27: string (nullable = true)\n",
    " |-- 28: string (nullable = true)\n",
    " |-- 29: string (nullable = true)\n",
    " |-- 30: string (nullable = true)\n",
    " |-- 31: string (nullable = true)\n",
    " |-- 32: string (nullable = true)\n",
    " |-- 33: string (nullable = true)\n",
    " |-- 34: string (nullable = true)\n",
    " |-- 35: string (nullable = true)\n",
    " |-- 36: string (nullable = true)\n",
    " |-- 37: string (nullable = true)\n",
    " |-- 38: string (nullable = true)\n",
    " |-- 39: string (nullable = true)\n",
    " |-- 40: string (nullable = true)\n",
    " |-- 41: string (nullable = true)\n",
    " |-- 42: string (nullable = true)\n",
    " |-- 43: string (nullable = true)\n",
    " |-- 44: string (nullable = true)\n",
    " |-- 45: string (nullable = true)\n",
    " |-- 46: string (nullable = true)\n",
    " |-- 47: string (nullable = true)\n",
    " |-- 48: string (nullable = true)\n",
    " |-- 49: string (nullable = true)\n",
    " |-- 50: string (nullable = true)\n",
    " |-- 51: string (nullable = true)\n",
    " |-- 52: string (nullable = true)\n",
    " |-- 53: string (nullable = true)\n",
    " |-- 54: string (nullable = true)\n",
    " |-- 55: string (nullable = true)\n",
    " |-- 56: string (nullable = true)\n",
    " |-- 57: string (nullable = true)\n",
    " |-- 58: string (nullable = true)\n",
    " |-- 59: string (nullable = true)\n",
    " |-- 60: string (nullable = true)\n",
    " |-- 61: string (nullable = true)\n",
    " |-- 62: string (nullable = true)\n",
    " |-- 63: string (nullable = true)\n",
    " |-- 64: string (nullable = true)\n",
    " |-- 65: string (nullable = true)\n",
    " |-- 66: string (nullable = true)\n",
    " |-- 67: string (nullable = true)\n",
    " |-- 68: string (nullable = true)\n",
    " |-- 69: string (nullable = true)\n",
    " |-- 70: string (nullable = true)\n",
    " |-- 71: string (nullable = true)\n",
    " |-- 72: string (nullable = true)\n",
    " |-- 73: string (nullable = true)\n",
    " |-- 74: string (nullable = true)\n",
    " |-- 75: string (nullable = true)\n",
    " |-- 76: string (nullable = true)\n",
    " |-- 77: string (nullable = true)\n",
    " |-- 78: string (nullable = true)\n",
    " |-- 79: string (nullable = true)\n",
    " |-- 80: string (nullable = true)\n",
    " |-- 81: string (nullable = true)\n",
    " |-- 82: string (nullable = true)\n",
    " |-- 83: string (nullable = true)\n",
    " |-- 84: string (nullable = true)\n",
    " |-- 85: string (nullable = true)\n",
    " |-- 86: string (nullable = true)\n",
    " |-- 87: string (nullable = true)\n",
    " |-- 88: string (nullable = true)\n",
    " |-- 89: string (nullable = true)\n",
    " |-- 90: string (nullable = true)\n",
    " |-- 91: string (nullable = true)\n",
    " |-- 92: string (nullable = true)\n",
    " |-- 93: string (nullable = true)\n",
    " |-- 94: string (nullable = true)\n",
    " |-- 95: string (nullable = true)\n",
    " |-- 96: string (nullable = true)\n",
    " |-- 97: string (nullable = true)\n",
    " |-- 98: string (nullable = true)\n",
    " |-- 99: string (nullable = true)\n",
    " |-- 100: string (nullable = true)\n",
    " |-- 101: string (nullable = true)\n",
    " |-- 102: string (nullable = true)\n",
    " |-- 103: string (nullable = true)\n",
    " |-- 104: string (nullable = true)\n",
    " |-- 105: string (nullable = true)\n",
    " |-- 106: string (nullable = true)\n",
    " |-- 107: string (nullable = true)\n",
    " |-- 108: string (nullable = true)\n",
    " |-- 109: string (nullable = true)\n",
    " |-- 110: string (nullable = true)\n",
    " |-- 111: string (nullable = true)\n",
    " |-- 112: string (nullable = true)\n",
    " |-- 113: string (nullable = true)\n",
    " |-- 114: string (nullable = true)\n",
    " |-- 115: string (nullable = true)\n",
    " |-- 116: string (nullable = true)\n",
    " |-- 117: string (nullable = true)\n",
    " |-- 118: string (nullable = true)\n",
    " |-- 119: string (nullable = true)\n",
    " |-- 120: string (nullable = true)\n",
    " |-- 121: string (nullable = true)\n",
    " |-- 122: string (nullable = true)\n",
    " |-- 123: string (nullable = true)\n",
    " |-- 124: string (nullable = true)\n",
    " |-- 125: string (nullable = true)\n",
    " |-- 126: string (nullable = true)\n",
    " |-- 127: string (nullable = true)\n",
    " |-- 128: string (nullable = true)\n",
    " |-- 129: string (nullable = true)\n",
    " |-- 130: string (nullable = true)\n",
    " |-- 131: string (nullable = true)\n",
    " |-- 132: string (nullable = true)\n",
    " |-- 133: string (nullable = true)\n",
    " |-- 134: string (nullable = true)\n",
    " |-- 135: string (nullable = true)\n",
    " |-- 136: string (nullable = true)\n",
    " |-- 137: string (nullable = true)\n",
    " |-- 138: string (nullable = true)\n",
    " |-- 139: string (nullable = true)\n",
    " |-- 140: string (nullable = true)\n",
    " |-- 141: string (nullable = true)\n",
    " |-- 142: string (nullable = true)\n",
    " |-- 143: string (nullable = true)\n",
    " |-- 144: string (nullable = true)\n",
    " |-- 145: string (nullable = true)\n",
    " |-- 146: string (nullable = true)\n",
    " |-- 147: string (nullable = true)\n",
    " |-- 148: string (nullable = true)\n",
    " |-- 149: string (nullable = true)\n",
    " |-- 150: string (nullable = true)\n",
    " |-- 151: string (nullable = true)\n",
    " |-- 152: string (nullable = true)\n",
    " |-- 153: string (nullable = true)\n",
    " |-- 154: string (nullable = true)\n",
    " |-- 155: string (nullable = true)\n",
    " |-- 156: string (nullable = true)\n",
    " |-- 157: string (nullable = true)\n",
    " |-- 158: string (nullable = true)\n",
    " |-- 159: string (nullable = true)\n",
    " |-- 160: string (nullable = true)\n",
    " |-- 161: string (nullable = true)\n",
    " |-- 162: string (nullable = true)\n",
    " |-- 163: string (nullable = true)\n",
    " |-- 164: string (nullable = true)\n",
    " |-- 165: string (nullable = true)\n",
    " |-- 166: string (nullable = true)\n",
    " |-- 167: string (nullable = true)\n",
    " |-- 168: string (nullable = true)\n",
    " |-- 169: string (nullable = true)\n",
    " |-- 170: string (nullable = true)\n",
    " |-- 171: string (nullable = true)\n",
    " |-- 172: string (nullable = true)\n",
    " |-- 173: string (nullable = true)\n",
    " |-- 174: string (nullable = true)\n",
    " |-- 175: string (nullable = true)\n",
    " |-- 176: string (nullable = true)\n",
    " |-- 177: string (nullable = true)\n",
    " |-- 178: string (nullable = true)\n",
    " |-- 179: string (nullable = true)\n",
    " |-- 180: string (nullable = true)\n",
    " |-- 181: string (nullable = true)\n",
    " |-- 182: string (nullable = true)\n",
    " |-- 183: string (nullable = true)\n",
    " |-- 184: string (nullable = true)\n",
    " |-- 185: string (nullable = true)\n",
    " |-- 186: string (nullable = true)\n",
    " |-- 187: string (nullable = true)\n",
    " |-- 188: string (nullable = true)\n",
    " |-- 189: string (nullable = true)\n",
    " |-- 190: string (nullable = true)\n",
    " |-- 191: string (nullable = true)\n",
    " |-- 192: string (nullable = true)\n",
    " |-- 193: string (nullable = true)\n",
    " |-- 194: string (nullable = true)\n",
    " |-- 195: string (nullable = true)\n",
    " |-- 196: string (nullable = true)\n",
    " |-- 197: string (nullable = true)\n",
    " |-- 198: string (nullable = true)\n",
    " |-- 199: string (nullable = true)\n",
    " |-- 200: string (nullable = true)\n",
    " |-- 201: string (nullable = true)\n",
    " |-- 202: string (nullable = true)\n",
    " |-- 203: string (nullable = true)\n",
    " |-- 204: string (nullable = true)\n",
    " |-- 205: string (nullable = true)\n",
    " |-- 206: string (nullable = true)\n",
    " |-- 207: string (nullable = true)\n",
    " |-- 208: string (nullable = true)\n",
    " |-- 209: string (nullable = true)\n",
    " |-- 210: string (nullable = true)\n",
    " |-- 211: string (nullable = true)\n",
    " |-- 212: string (nullable = true)\n",
    " |-- 213: string (nullable = true)\n",
    " |-- 214: string (nullable = true)\n",
    " |-- 215: string (nullable = true)\n",
    " |-- 216: string (nullable = true)\n",
    " |-- 217: string (nullable = true)\n",
    " |-- 218: string (nullable = true)\n",
    " |-- 219: string (nullable = true)\n",
    " |-- 220: string (nullable = true)\n",
    " |-- 221: string (nullable = true)\n",
    " |-- 222: string (nullable = true)\n",
    " |-- 223: string (nullable = true)\n",
    " |-- 224: string (nullable = true)\n",
    " |-- 225: string (nullable = true)\n",
    " |-- 226: string (nullable = true)\n",
    " |-- 227: string (nullable = true)\n",
    " |-- 228: string (nullable = true)\n",
    " |-- 229: string (nullable = true)\n",
    " |-- 230: string (nullable = true)\n",
    " |-- 231: string (nullable = true)\n",
    " |-- 232: string (nullable = true)\n",
    " |-- 233: string (nullable = true)\n",
    " |-- 234: string (nullable = true)\n",
    " |-- 235: string (nullable = true)\n",
    " |-- 236: string (nullable = true)\n",
    " |-- 237: string (nullable = true)\n",
    " |-- 238: string (nullable = true)\n",
    " |-- 239: string (nullable = true)\n",
    " |-- 240: string (nullable = true)\n",
    " |-- 241: string (nullable = true)\n",
    " |-- 242: string (nullable = true)\n",
    " |-- 243: string (nullable = true)\n",
    " |-- 244: string (nullable = true)\n",
    " |-- 245: string (nullable = true)\n",
    " |-- 246: string (nullable = true)\n",
    " |-- 247: string (nullable = true)\n",
    " |-- 248: string (nullable = true)\n",
    " |-- 249: string (nullable = true)\n",
    " |-- 250: string (nullable = true)\n",
    " |-- 251: string (nullable = true)\n",
    " |-- 252: string (nullable = true)\n",
    " |-- 253: string (nullable = true)\n",
    " |-- 254: string (nullable = true)\n",
    " |-- 255: string (nullable = true)\n",
    " |-- 256: string (nullable = true)\n",
    " |-- 257: string (nullable = true)\n",
    " |-- 258: string (nullable = true)\n",
    " |-- 259: string (nullable = true)\n",
    " |-- 260: string (nullable = true)\n",
    " |-- 261: string (nullable = true)\n",
    " |-- 262: string (nullable = true)\n",
    " |-- 263: string (nullable = true)\n",
    " |-- 264: string (nullable = true)\n",
    " |-- 265: string (nullable = true)\n",
    " |-- 266: string (nullable = true)\n",
    " |-- 267: string (nullable = true)\n",
    " |-- 268: string (nullable = true)\n",
    " |-- 269: string (nullable = true)\n",
    " |-- 270: string (nullable = true)\n",
    " |-- 271: string (nullable = true)\n",
    " |-- 272: string (nullable = true)\n",
    " |-- 273: string (nullable = true)\n",
    " |-- 274: string (nullable = true)\n",
    " |-- 275: string (nullable = true)\n",
    " |-- 276: string (nullable = true)\n",
    " |-- 277: string (nullable = true)\n",
    " |-- 278: string (nullable = true)\n",
    " |-- 279: string (nullable = true)\n",
    " |-- 280: string (nullable = true)\n",
    " |-- 281: string (nullable = true)\n",
    " |-- 282: string (nullable = true)\n",
    " |-- 283: string (nullable = true)\n",
    " |-- 284: string (nullable = true)\n",
    " |-- 285: string (nullable = true)\n",
    " |-- 286: string (nullable = true)\n",
    " |-- 287: string (nullable = true)\n",
    " |-- 288: string (nullable = true)\n",
    " |-- 289: string (nullable = true)\n",
    " |-- 290: string (nullable = true)\n",
    " |-- 291: string (nullable = true)\n",
    " |-- 292: string (nullable = true)\n",
    " |-- 293: string (nullable = true)\n",
    " |-- 294: string (nullable = true)\n",
    " |-- 295: string (nullable = true)\n",
    " |-- 296: string (nullable = true)\n",
    " |-- 297: string (nullable = true)\n",
    " |-- 298: string (nullable = true)\n",
    " |-- 299: string (nullable = true)\n",
    " |-- 300: string (nullable = true)\n",
    " |-- 301: string (nullable = true)\n",
    " |-- 302: string (nullable = true)\n",
    " |-- 303: string (nullable = true)\n",
    " |-- 304: string (nullable = true)\n",
    " |-- 305: string (nullable = true)\n",
    " |-- 306: string (nullable = true)\n",
    " |-- 307: string (nullable = true)\n",
    " |-- 308: string (nullable = true)\n",
    " |-- 309: string (nullable = true)\n",
    " |-- 310: string (nullable = true)\n",
    " |-- 311: string (nullable = true)\n",
    " |-- 312: string (nullable = true)\n",
    " |-- 313: string (nullable = true)\n",
    " |-- 314: string (nullable = true)\n",
    " |-- 315: string (nullable = true)\n",
    " |-- 316: string (nullable = true)\n",
    " |-- 317: string (nullable = true)\n",
    " |-- 318: string (nullable = true)\n",
    " |-- 319: string (nullable = true)\n",
    " |-- 320: string (nullable = true)\n",
    " |-- 321: string (nullable = true)\n",
    " |-- 322: string (nullable = true)\n",
    " |-- 323: string (nullable = true)\n",
    " |-- 324: string (nullable = true)\n",
    " |-- 325: string (nullable = true)\n",
    " |-- 326: string (nullable = true)\n",
    " |-- 327: string (nullable = true)\n",
    " |-- 328: string (nullable = true)\n",
    " |-- 329: string (nullable = true)\n",
    " |-- 330: string (nullable = true)\n",
    " |-- 331: string (nullable = true)\n",
    " |-- 332: string (nullable = true)\n",
    " |-- 333: string (nullable = true)\n",
    " |-- 334: string (nullable = true)\n",
    " |-- 335: string (nullable = true)\n",
    " |-- 336: string (nullable = true)\n",
    " |-- 337: string (nullable = true)\n",
    " |-- 338: string (nullable = true)\n",
    " |-- 339: string (nullable = true)\n",
    " |-- 340: string (nullable = true)\n",
    " |-- 341: string (nullable = true)\n",
    " |-- 342: string (nullable = true)\n",
    " |-- 343: string (nullable = true)\n",
    " |-- 344: string (nullable = true)\n",
    " |-- 345: string (nullable = true)\n",
    " |-- 346: string (nullable = true)\n",
    " |-- 347: string (nullable = true)\n",
    " |-- 348: string (nullable = true)\n",
    " |-- 349: string (nullable = true)\n",
    " |-- 350: string (nullable = true)\n",
    " |-- 351: string (nullable = true)\n",
    " |-- 352: string (nullable = true)\n",
    " |-- 353: string (nullable = true)\n",
    " |-- 354: string (nullable = true)\n",
    " |-- 355: string (nullable = true)\n",
    " |-- 356: string (nullable = true)\n",
    " |-- 357: string (nullable = true)\n",
    " |-- 358: string (nullable = true)\n",
    " |-- 359: string (nullable = true)\n",
    " |-- ^: string (nullable = true)\n",
    " |-- _c366: string (nullable = true)\n",
    "```"
   ]
  },
  {
   "cell_type": "markdown",
   "id": "9d11fc82",
   "metadata": {},
   "source": [
    "Now to create a Polygon geometry from the 360 coordinates, each in a separate column. We could do this using the DataFrame API, but I was searching for a pure SQL solution. This is perhaps not the most elegant solution but I chose to programatically construct a SQL fragment that would parse each coordinate value using SQL's `SPLIT` string function and then insert that SQL fragment into a larger SQL statement."
   ]
  },
  {
   "cell_type": "code",
   "execution_count": null,
   "id": "62545a2e",
   "metadata": {},
   "outputs": [],
   "source": [
    "cols = ','.join([str(f\"SPLIT(`{x}`, ',')[1], ' ', SPLIT(`{x}`, ',')[0]\" + (\",' ,'\" if int(x) < 359 else '')) for x in tv_df.schema.names[5:-2]])"
   ]
  },
  {
   "cell_type": "code",
   "execution_count": null,
   "id": "6cfbca3e",
   "metadata": {},
   "outputs": [],
   "source": [
    "tv_df = sedona.sql(f\"SELECT application_id, service, lms_application_id, dts_site_number, ST_GeomFromWKT(CONCAT('POLYGON ((' , {cols}, '))')) AS geometry  FROM tv\")"
   ]
  },
  {
   "cell_type": "code",
   "execution_count": null,
   "id": "9b014c7a",
   "metadata": {},
   "outputs": [],
   "source": [
    "tv_df.show()"
   ]
  },
  {
   "cell_type": "markdown",
   "id": "a1471332",
   "metadata": {},
   "source": [
    "```\n",
    "+--------------+-------+--------------------+---------------+--------------------+\n",
    "|application_id|service|  lms_application_id|dts_site_number|            geometry|\n",
    "+--------------+-------+--------------------+---------------+--------------------+\n",
    "|    2036528   |    LPD|25076ff3729b1e0a0...|             01|POLYGON ((-154.84...|\n",
    "|    2020763   |    DTV|25076f9169e0309d0...|             01|POLYGON ((-87.135...|\n",
    "|    2051473   |    LPD|25076ff386f28a460...|             01|POLYGON ((-114.82...|\n",
    "|    2047477   |    LPD|25076ff380754a570...|             01|POLYGON ((-114.82...|\n",
    "|    2047332   |    LPD|25076ff38197b72e0...|             01|POLYGON ((-120.2 ...|\n",
    "|    2045786   |    LPD|25076ff3818b1da20...|             01|POLYGON ((-116.22...|\n",
    "|    2042394   |    LPD|25076ff379edbd630...|             01|POLYGON ((-116.23...|\n",
    "|    2047209   |    LPD|25076f9181644b630...|             01|POLYGON ((-118.07...|\n",
    "|    1636431   |    LPT|5c099f4617394bd0a...|             01|POLYGON ((-118.07...|\n",
    "|    2050793   |    LPD|25076f91858430210...|             01|POLYGON ((-122.63...|\n",
    "|    2049140   |    LPD|25076f9181f47ea90...|             01|POLYGON ((-122.63...|\n",
    "|    2001458   |    LPD|25076f914dfdd8ab0...|             01|POLYGON ((-121.83...|\n",
    "|    1505135   |    LPT|8454aac897db42e39...|             01|POLYGON ((-124.04...|\n",
    "|    1262099   |    LPT|3147136286024a88b...|             01|POLYGON ((-122.98...|\n",
    "|    2036969   |    LPD|25076f91732a46140...|             01|POLYGON ((-105.23...|\n",
    "|    1422197   |    LPT|d9f7f05a979a4b058...|             01|POLYGON ((-108.52...|\n",
    "|    1424848   |    LPT|f8cb3756787b40d7a...|             01|POLYGON ((-107.25...|\n",
    "|    2002433   |    DTV|25076ff3524603200...|             01|POLYGON ((-108.56...|\n",
    "|    1439031   |    LPT|96c956b5f07741a08...|             01|POLYGON ((-108.02...|\n",
    "|    1439043   |    LPT|957fab47770747899...|             01|POLYGON ((-108.68...|\n",
    "+--------------+-------+--------------------+---------------+--------------------+\n",
    "only showing top 20 rows\n",
    "```"
   ]
  },
  {
   "cell_type": "code",
   "execution_count": null,
   "id": "84b7c527",
   "metadata": {},
   "outputs": [],
   "source": [
    "tv_df.createOrReplaceTempView(\"tv\")"
   ]
  },
  {
   "cell_type": "markdown",
   "id": "80e1a2cc",
   "metadata": {},
   "source": [
    "Now we have a Spatial DataFrame where each row represents a TV station and the `geometry` column is a polygon that represents the service area of that TV station. \n",
    "\n",
    "We can visualize the contours individually using `SedonaKepler`"
   ]
  },
  {
   "cell_type": "code",
   "execution_count": null,
   "id": "3065ff05",
   "metadata": {},
   "outputs": [],
   "source": [
    "SedonaKepler.create_map(tv_df, \"TV Service Contours\")"
   ]
  },
  {
   "cell_type": "markdown",
   "id": "d2fbd35b",
   "metadata": {},
   "source": [
    "![](https://raw.githubusercontent.com/johnymontana/30-day-map-challenge/03b921e98df80984331defe812ec832ebeefbed3/img/atmosphere/kepler-contours.png)"
   ]
  },
  {
   "cell_type": "markdown",
   "id": "74a6786a",
   "metadata": {},
   "source": [
    "Instead of visualizing each contour, let's see if we can visualize the density of overlapping TV stations using H3 hexagons. We can use the H3 hexagon functions in SedonaDB to create a hexagon tesselation over our entire service area, then use a SQL `GROUP BY` to count the number of TV station geometries intersecting with each hexagon."
   ]
  },
  {
   "cell_type": "code",
   "execution_count": null,
   "id": "4e6769c0",
   "metadata": {},
   "outputs": [],
   "source": [
    "h3_df = sedona.sql(\"\"\"\n",
    "SELECT COUNT(*) AS num, ST_H3ToGeom(ST_H3CellIDs(geometry, 2, false)) as geometry, ST_H3CellIDs(geometry, 2, false) as h3 \n",
    "FROM tv \n",
    "GROUP BY h3\n",
    "\"\"\")"
   ]
  },
  {
   "cell_type": "code",
   "execution_count": null,
   "id": "0084f972",
   "metadata": {},
   "outputs": [],
   "source": [
    "h3_df.show(5)"
   ]
  },
  {
   "cell_type": "markdown",
   "id": "6b525337",
   "metadata": {},
   "source": [
    "```\n",
    "+---+--------------------+--------------------+\n",
    "|num|            geometry|                  h3|\n",
    "+---+--------------------+--------------------+\n",
    "| 11|MULTIPOLYGON (((-...|[585703247046508543]|\n",
    "| 31|MULTIPOLYGON (((-...|[586138653651107839]|\n",
    "| 17|MULTIPOLYGON (((-...|[586236510185979903]|\n",
    "| 17|MULTIPOLYGON (((-...|[586166141441802239]|\n",
    "| 75|MULTIPOLYGON (((-...|[586164492174360575]|\n",
    "+---+--------------------+--------------------+\n",
    "only showing top 5 rows\n",
    "```"
   ]
  },
  {
   "cell_type": "markdown",
   "id": "bb90f168",
   "metadata": {},
   "source": [
    "Our new DataFrame shows the number of TV stations in each hexagon."
   ]
  },
  {
   "cell_type": "code",
   "execution_count": null,
   "id": "32d88392",
   "metadata": {},
   "outputs": [],
   "source": [
    "SedonaKepler.create_map(h3_df)"
   ]
  },
  {
   "cell_type": "markdown",
   "id": "40928a58",
   "metadata": {},
   "source": [
    "![](https://raw.githubusercontent.com/johnymontana/30-day-map-challenge/03b921e98df80984331defe812ec832ebeefbed3/img/atmosphere/kepler-hexagons.png)"
   ]
  },
  {
   "cell_type": "markdown",
   "id": "fe0eab75",
   "metadata": {},
   "source": [
    "We can create an interactive choropleth to visualize the data using `SedonaPyDeck`."
   ]
  },
  {
   "cell_type": "code",
   "execution_count": null,
   "id": "663e76d2",
   "metadata": {},
   "outputs": [],
   "source": [
    "SedonaPyDeck.create_choropleth_map(h3_df, plot_col=\"num\")"
   ]
  },
  {
   "cell_type": "markdown",
   "id": "32408815",
   "metadata": {},
   "source": [
    "![](https://raw.githubusercontent.com/johnymontana/30-day-map-challenge/03b921e98df80984331defe812ec832ebeefbed3/img/atmosphere/pydeck.png)"
   ]
  },
  {
   "cell_type": "markdown",
   "id": "26dc1789",
   "metadata": {},
   "source": [
    "Let's also create a choropleth using matplotlib."
   ]
  },
  {
   "cell_type": "code",
   "execution_count": null,
   "id": "425ec3ce",
   "metadata": {},
   "outputs": [],
   "source": [
    "h3_df = h3_df.filter(\"ST_XMin(geometry) < 0\")\n",
    "h3_gdf = geopandas.GeoDataFrame(h3_df.toPandas(), geometry='geometry')"
   ]
  },
  {
   "cell_type": "code",
   "execution_count": null,
   "id": "86d695d8",
   "metadata": {},
   "outputs": [],
   "source": [
    "h3_gdf.plot()"
   ]
  },
  {
   "cell_type": "markdown",
   "id": "627535ca",
   "metadata": {},
   "source": [
    "![](https://raw.githubusercontent.com/johnymontana/30-day-map-challenge/03b921e98df80984331defe812ec832ebeefbed3/img/atmosphere/matplotlib.png)"
   ]
  },
  {
   "cell_type": "markdown",
   "id": "68bf28e9",
   "metadata": {},
   "source": [
    "Note the distortion of the hexagons especially at larger latitudes. Let's use an equal area projection to preserve the area of each hexagon (we'll lose a bit of the shape at the extremes, but area will be preserved which is typically what we want when creating a choropleth map)"
   ]
  },
  {
   "cell_type": "code",
   "execution_count": null,
   "id": "14764169",
   "metadata": {},
   "outputs": [],
   "source": [
    "h3_gdf.crs = {\"init\": \"epsg:4326\"}\n",
    "h3_gdf.to_crs(epsg=9822)"
   ]
  },
  {
   "cell_type": "code",
   "execution_count": null,
   "id": "bebb5ca1",
   "metadata": {},
   "outputs": [],
   "source": [
    "ax = h3_gdf.plot(\n",
    "    column=\"num\",\n",
    "    scheme=\"JenksCaspall\",\n",
    "    cmap=\"YlGnBu\",\n",
    "    legend=True,\n",
    "    legend_kwds={\"title\": \"Number of TV stations\", \"fontsize\": 20, \"title_fontsize\": 20},\n",
    "    figsize=(24,18)\n",
    ")\n",
    "\n",
    "ax.set_axis_off()\n",
    "ax.set_title(\"US TV Station Density\", fontsize=40)\n",
    "ax.annotate(\"Data from FCC TV Service Countours Dataset\", (-175,15))\n",
    "\n",
    "plt.savefig(\"fcc.png\", dpi=300)"
   ]
  },
  {
   "cell_type": "markdown",
   "id": "cdd9f6b6",
   "metadata": {},
   "source": [
    "![](https://raw.githubusercontent.com/johnymontana/30-day-map-challenge/03b921e98df80984331defe812ec832ebeefbed3/img/18-atmosphere-final.png)"
   ]
  },
  {
   "cell_type": "code",
   "execution_count": null,
   "id": "ab6c646c",
   "metadata": {},
   "outputs": [],
   "source": []
  }
 ],
 "metadata": {
  "kernelspec": {
   "display_name": "Python 3 (ipykernel)",
   "language": "python",
   "name": "python3"
  },
  "language_info": {
   "codemirror_mode": {
    "name": "ipython",
    "version": 3
   },
   "file_extension": ".py",
   "mimetype": "text/x-python",
   "name": "python",
   "nbconvert_exporter": "python",
   "pygments_lexer": "ipython3",
   "version": "3.10.11"
  }
 },
 "nbformat": 4,
 "nbformat_minor": 5
}
